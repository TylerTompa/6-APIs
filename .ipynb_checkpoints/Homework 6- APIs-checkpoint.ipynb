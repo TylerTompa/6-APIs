{
 "cells": [
  {
   "cell_type": "code",
   "execution_count": 1,
   "metadata": {},
   "outputs": [],
   "source": [
    "# We must first import our relevant packages to this project.\n",
    "import pandas as pd\n",
    "import numpy as np\n",
    "import matplotlib.pyplot as plt\n",
    "\n",
    "# We will use the requests package to call on APIs.\n",
    "import requests\n",
    "import time\n",
    "# We will use the citipy package to generate a list of randomly selected cities.\n",
    "from citipy import citipy\n",
    "\n",
    "# We will use the getpass function to keep our API key hidden.\n",
    "import getpass"
   ]
  },
  {
   "cell_type": "code",
   "execution_count": 2,
   "metadata": {},
   "outputs": [
    {
     "name": "stdout",
     "output_type": "stream",
     "text": [
      "········\n"
     ]
    }
   ],
   "source": [
    "# We will use the getpass function to define the API key we are using to make requests, while keeping it hidden.\n",
    "api_key = getpass.getpass()"
   ]
  },
  {
   "cell_type": "code",
   "execution_count": null,
   "metadata": {},
   "outputs": [],
   "source": [
    "# Output file (CSV)\n",
    "output_data_file = \"output_data/cities.csv\""
   ]
  },
  {
   "cell_type": "code",
   "execution_count": 3,
   "metadata": {},
   "outputs": [],
   "source": [
    "# The cities_to_check variable will be a list containing randomly selected cities using the citipy package.\n",
    "# Later we will make API requests to OpenWeatherMap and try to extract data related to each city.\n",
    "# The citipy package may return cities, for which OpenWeatherMap has no data, hence, we are \"checking\" each city.\n",
    "# Later we will define a new list containing only those cities, for which OpenWeatherMap does have data.\n",
    "cities_to_check = []"
   ]
  },
  {
   "cell_type": "code",
   "execution_count": 4,
   "metadata": {},
   "outputs": [
    {
     "data": {
      "text/plain": [
       "606"
      ]
     },
     "execution_count": 4,
     "metadata": {},
     "output_type": "execute_result"
    }
   ],
   "source": [
    "# We will use the numpy and citipy packages to generate a list of randomly selected cities.\n",
    "# We will first define two lists: one for latitude, and one for longitude.\n",
    "# We will then use the zip function with these two lists to form coodinates pairs of latitude and longitude.\n",
    "latitudes = np.random.uniform(low=-90.000, high=90.000, size=1500)\n",
    "longitudes = np.random.uniform(low=-180.000, high=180.000, size=1500)\n",
    "latitudes_and_longitudes = zip(latitudes, longitudes)\n",
    "\n",
    "# The citipy package will return the city closest to each coordinate pair.\n",
    "# By using this method of returning cities in a for-loop, we will generate a list of cities.\n",
    "for latitude_and_longitude in latitudes_and_longitudes:\n",
    "    city = citipy.nearest_city(latitude_and_longitude[0], latitude_and_longitude[1]).city_name\n",
    "    \n",
    "    # We do not want to add the same city to our list more than once,\n",
    "    # so we only append a city to our list if it is not already in the list.\n",
    "    if city not in cities_to_check:\n",
    "        cities_to_check.append(city)\n",
    "\n",
    "# Here we print the len of the cities_to_check variable to confirm that we have a sufficient amount of cities.\n",
    "len(cities_to_check)"
   ]
  },
  {
   "cell_type": "code",
   "execution_count": 5,
   "metadata": {},
   "outputs": [],
   "source": [
    "# Using the requests package, we will be making calls to the OpenWeatherMap API.\n",
    "# First we define the general URL variable,\n",
    "# then we will be able to use this base URL, while defining other elements,\n",
    "# such as which units to return numerical data in, and which city to check.\n",
    "url = \"http://api.openweathermap.org/data/2.5/weather?\"\n",
    "units = \"metric\"\n",
    "\n",
    "# This defines the more specific URL.\n",
    "# It uses the general URL we defined earlier, and inserts our API key, the units we want our results in, and later in a for loop we will concatenate the specific city to the end of the URL.\n",
    "query_url = f\"{url}appid={api_key}&units=units&q=\""
   ]
  },
  {
   "cell_type": "code",
   "execution_count": 6,
   "metadata": {
    "scrolled": true
   },
   "outputs": [],
   "source": [
    "# We are only allowed to make a limited amount of requests per a certain time restraint.\n",
    "# Here we make a subset of our cities_to_check list containing only the first 50 cities.\n",
    "# We will use this subset-list for testing purposes, and only use our full list once we are confident our code will work.\n",
    "cities_to_check_subset_for_testing = cities_to_check[:50]"
   ]
  },
  {
   "cell_type": "code",
   "execution_count": 8,
   "metadata": {
    "scrolled": true
   },
   "outputs": [
    {
     "name": "stdout",
     "output_type": "stream",
     "text": [
      "Beginning Data Retrieval\n",
      "Processing Record 0 of Set | rikitea\n",
      "Processing Record 1 of Set | albany\n",
      "Processing Record 2 of Set | iquique\n",
      "Processing Record 3 of Set | san patricio\n",
      "Processing Record 4 of Set | cape town\n",
      "Processing Record 5 of Set | miranda\n",
      "Processing Record 6 of Set | bonavista\n",
      "Processing Record 7 of Set | busselton\n",
      "Processing Record 8 of Set | atuona\n",
      "Processing Record 9 of Set | basco\n",
      "Processing Record 10 of Set | seit\n",
      "City not found.  Skipping...\n",
      "Processing Record 11 of Set | bambous virieux\n",
      "Processing Record 12 of Set | nchelenge\n",
      "Processing Record 13 of Set | arraial do cabo\n",
      "Processing Record 14 of Set | stephenville\n",
      "Processing Record 15 of Set | ushuaia\n",
      "Processing Record 16 of Set | port blair\n",
      "Processing Record 17 of Set | voh\n",
      "Processing Record 18 of Set | bluff\n",
      "Processing Record 19 of Set | guerrero negro\n",
      "Processing Record 20 of Set | zwedru\n",
      "Processing Record 21 of Set | hvolsvollur\n",
      "City not found.  Skipping...\n",
      "Processing Record 22 of Set | tasiilaq\n",
      "Processing Record 23 of Set | lebu\n",
      "Processing Record 24 of Set | aklavik\n",
      "Processing Record 25 of Set | yellowknife\n",
      "Processing Record 26 of Set | barentsburg\n",
      "City not found.  Skipping...\n",
      "Processing Record 27 of Set | montgomery\n",
      "Processing Record 28 of Set | butaritari\n",
      "Processing Record 29 of Set | barrow\n",
      "Processing Record 30 of Set | torbay\n",
      "Processing Record 31 of Set | romilly-sur-seine\n",
      "Processing Record 32 of Set | astoria\n",
      "Processing Record 33 of Set | sambava\n",
      "Processing Record 34 of Set | port macquarie\n",
      "Processing Record 35 of Set | kapaa\n",
      "Processing Record 36 of Set | dikson\n",
      "Processing Record 37 of Set | mataura\n",
      "Processing Record 38 of Set | kaitangata\n",
      "Processing Record 39 of Set | usinsk\n",
      "Processing Record 40 of Set | cape coast\n",
      "Processing Record 41 of Set | najran\n",
      "Processing Record 42 of Set | tsihombe\n",
      "City not found.  Skipping...\n",
      "Processing Record 43 of Set | huron\n",
      "Processing Record 44 of Set | port alfred\n",
      "Processing Record 45 of Set | georgetown\n",
      "Processing Record 46 of Set | san ignacio\n",
      "Processing Record 47 of Set | attawapiskat\n",
      "City not found.  Skipping...\n",
      "Processing Record 48 of Set | mehamn\n",
      "Processing Record 49 of Set | illoqqortoormiut\n",
      "City not found.  Skipping...\n",
      "-----------------------------\n",
      "Data Retrieval Complete\n",
      "-----------------------------\n"
     ]
    }
   ],
   "source": [
    "# latitudes = []\n",
    "# temperatures = []\n",
    "# found_cities = []\n",
    "\n",
    "# print(\"Beginning Data Retrieval\")\n",
    "\n",
    "# for city in cities_to_check:\n",
    "#     response = requests.get(query_url + city).json()\n",
    "#     city_name = cities_to_check[cities_to_check.index(city)]\n",
    "#     record_number = cities_to_check.index(city)\n",
    "    \n",
    "#     try:\n",
    "#         print(f\"Processing Record {record_number} of Set | {city_name}\")\n",
    "#         found_cities.append(city_name)\n",
    "#         latitudes.append(response[\"coord\"][\"lat\"])\n",
    "#         temperatures.append(response[\"main\"][\"temp\"])\n",
    "        \n",
    "#     except:\n",
    "#         print (\"City not found.  Skipping...\")\n",
    "        \n",
    "# print(\"-----------------------------\")\n",
    "# print(\"Data Retrieval Complete\")\n",
    "# print(\"-----------------------------\")\n",
    "\n",
    "\n",
    "\n",
    "# This block of code serves the same purpose as the block of code above.\n",
    "# The only difference is that we are using a subset of the entire list of cities for testing purposes.\n",
    "\n",
    "# We will soon use the pandas package to create a dataframe containing information about each city in our list.\n",
    "# Here initialize a list for everything related to the city we are interested in.\n",
    "# When we are ready to make our dataframe, we will first define a dictionary containing each of these lists.\n",
    "# The list of cities we generated earlier will most likely contain cities for which the OpenWeatherMap API has no data.\n",
    "# Therefore these lists should be of shorter length than our full list of cities.\n",
    "# We can only create a dataframe from a list of dictionaries if each list is the same length.\n",
    "# Therefore, we define the city_names list to hold cities only for which data was found.\n",
    "city_names = []\n",
    "city_cloudinesses = []\n",
    "city_countries = []\n",
    "city_dates = []\n",
    "city_humidities = []\n",
    "city_latitudes = []\n",
    "city_longitudes = []\n",
    "city_max_temperatures = []\n",
    "city_wind_speeds = []\n",
    "\n",
    "print(\"Beginning Data Retrieval\")\n",
    "\n",
    "# In this for-loop, we begin by using the requests package to \n",
    "for city in cities_to_check_subset_for_testing:\n",
    "    response = requests.get(query_url + city).json()\n",
    "    city_name = cities_to_check_subset_for_testing[cities_to_check_subset_for_testing.index(city)]\n",
    "    record_number = cities_to_check_subset_for_testing.index(city)\n",
    "    \n",
    "    try:\n",
    "        print(f\"Processing Record {record_number} of Set | {city_name}\")\n",
    "        city_names.append(response[\"name\"])\n",
    "        city_cloudinesses.append(response[\"clouds\"][\"all\"])\n",
    "        city_countries.append(response[\"sys\"][\"country\"])\n",
    "        city_dates.append(response[\"dt\"])\n",
    "        city_humidities.append(response[\"main\"][\"humidity\"])\n",
    "        city_latitudes.append(response[\"coord\"][\"lat\"])\n",
    "        city_longitudes.append(response[\"coord\"][\"lon\"])\n",
    "        city_max_temperatures.append(response[\"main\"][\"temp_max\"])\n",
    "        city_wind_speeds.append(response[\"wind\"][\"speed\"])\n",
    "        \n",
    "    except:\n",
    "        print (\"City not found.  Skipping...\")\n",
    "        \n",
    "print(\"-----------------------------\")\n",
    "print(\"Data Retrieval Complete\")\n",
    "print(\"-----------------------------\")"
   ]
  },
  {
   "cell_type": "code",
   "execution_count": null,
   "metadata": {},
   "outputs": [],
   "source": [
    "weather_data_dictionary = {\n",
    "    \"City\": city_names,\n",
    "    \"Cloudiness\": city_cloudinesses,\n",
    "    \"Country\": city_countries,\n",
    "    \"Date\": city_dates,\n",
    "    \"Humidity\": city_humidities,\n",
    "    \"Latitude\": city_latitudes,\n",
    "    \"Longitude\": city_longitudes,\n",
    "    \"Max Temperature\": city_max_temperatures,\n",
    "    \"Wind Speed\": city_wind_speeds\n",
    "}"
   ]
  },
  {
   "cell_type": "code",
   "execution_count": null,
   "metadata": {},
   "outputs": [],
   "source": [
    "weather_data = pd.DataFrame(weather_data_dictionary)\n",
    "weather_data.head()"
   ]
  },
  {
   "cell_type": "code",
   "execution_count": null,
   "metadata": {},
   "outputs": [],
   "source": []
  }
 ],
 "metadata": {
  "kernelspec": {
   "display_name": "Python 3",
   "language": "python",
   "name": "python3"
  },
  "language_info": {
   "codemirror_mode": {
    "name": "ipython",
    "version": 3
   },
   "file_extension": ".py",
   "mimetype": "text/x-python",
   "name": "python",
   "nbconvert_exporter": "python",
   "pygments_lexer": "ipython3",
   "version": "3.6.5"
  }
 },
 "nbformat": 4,
 "nbformat_minor": 2
}
