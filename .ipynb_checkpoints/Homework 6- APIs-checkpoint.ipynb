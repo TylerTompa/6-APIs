{
 "cells": [
  {
   "cell_type": "code",
   "execution_count": 1,
   "metadata": {},
   "outputs": [],
   "source": [
    "# We must first import our relevant packages to this project.\n",
    "import pandas as pd\n",
    "import numpy as np\n",
    "import matplotlib.pyplot as plt\n",
    "\n",
    "# We will use the requests package to call on APIs.\n",
    "import requests\n",
    "\n",
    "import time\n",
    "import datetime\n",
    "\n",
    "# We will use the citipy package to generate a list of randomly selected cities.\n",
    "from citipy import citipy\n",
    "\n",
    "# We will use the getpass function to keep our API key hidden.\n",
    "import getpass"
   ]
  },
  {
   "cell_type": "code",
   "execution_count": 10,
   "metadata": {},
   "outputs": [
    {
     "name": "stdout",
     "output_type": "stream",
     "text": [
      "········\n"
     ]
    }
   ],
   "source": [
    "# We will use the getpass function to define the API key we are using to make requests, while keeping it hidden.\n",
    "api_key = getpass.getpass()"
   ]
  },
  {
   "cell_type": "code",
   "execution_count": 9,
   "metadata": {},
   "outputs": [],
   "source": [
    "# The cities_to_check variable will be a list containing randomly selected cities using the citipy package.\n",
    "# Later we will make API requests to OpenWeatherMap and try to extract data related to each city.\n",
    "# The citipy package may return cities, for which OpenWeatherMap has no data, hence, we are \"checking\" each city.\n",
    "# Later we will define a new list containing only those cities, for which OpenWeatherMap does have data.\n",
    "cities_to_check = []"
   ]
  },
  {
   "cell_type": "code",
   "execution_count": 4,
   "metadata": {},
   "outputs": [
    {
     "data": {
      "text/plain": [
       "613"
      ]
     },
     "execution_count": 4,
     "metadata": {},
     "output_type": "execute_result"
    }
   ],
   "source": [
    "# We will use the numpy and citipy packages to generate a list of randomly selected cities.\n",
    "# We will first define two lists: one for latitude, and one for longitude.\n",
    "# We will then use the zip function with these two lists to form coodinates pairs of latitude and longitude.\n",
    "latitudes = np.random.uniform(low=-90.000, high=90.000, size=1500)\n",
    "longitudes = np.random.uniform(low=-180.000, high=180.000, size=1500)\n",
    "latitudes_and_longitudes = zip(latitudes, longitudes)\n",
    "\n",
    "# The citipy package will return the city closest to each coordinate pair.\n",
    "# By using this method of returning cities in a for-loop, we will generate a list of cities.\n",
    "for latitude_and_longitude in latitudes_and_longitudes:\n",
    "    city = citipy.nearest_city(latitude_and_longitude[0], latitude_and_longitude[1]).city_name\n",
    "    \n",
    "    # We do not want to add the same city to our list more than once,\n",
    "    # so we only append a city to our list if it is not already in the list.\n",
    "    if city not in cities_to_check:\n",
    "        cities_to_check.append(city)\n",
    "\n",
    "# Here we print the len of the cities_to_check variable to confirm that we have a sufficient amount of cities.\n",
    "len(cities_to_check)"
   ]
  },
  {
   "cell_type": "code",
   "execution_count": 11,
   "metadata": {},
   "outputs": [],
   "source": [
    "# Using the requests package, we will be making calls to the OpenWeatherMap API.\n",
    "# First we define the general URL variable,\n",
    "# then we will be able to use this base URL, while defining other elements,\n",
    "# such as which units to return numerical data in, and which city to check.\n",
    "url = \"http://api.openweathermap.org/data/2.5/weather?\"\n",
    "units = \"imperial\"\n",
    "\n",
    "# This defines the more specific URL.\n",
    "# It uses the general URL we defined earlier, and inserts our API key, the units we want our results in, and later in a for loop we will concatenate the specific city to the end of the URL.\n",
    "query_url = f\"{url}appid={api_key}&units={units}&q=\""
   ]
  },
  {
   "cell_type": "code",
   "execution_count": 6,
   "metadata": {
    "scrolled": true
   },
   "outputs": [],
   "source": [
    "# We are only allowed to make a limited amount of requests per a certain time restraint.\n",
    "# Here we make a subset of our cities_to_check list containing only the first 50 cities.\n",
    "# We will use this subset-list for testing purposes, and only use our full list once we are confident our code will work.\n",
    "cities_to_check_subset_for_testing = cities_to_check[:50]"
   ]
  },
  {
   "cell_type": "code",
   "execution_count": 12,
   "metadata": {
    "scrolled": true
   },
   "outputs": [
    {
     "name": "stdout",
     "output_type": "stream",
     "text": [
      "Beginning Data Retrieval\n",
      "Processing Record 0 of Set | Yola\n",
      "Processing Record 1 of Set | Vaini\n",
      "Processing Record 2 of Set | Yelan-Kolenovskiy\n",
      "Processing Record 3 of Set | Turukhansk\n",
      "Processing Record 4 of Set | Kapaa\n",
      "Processing Record 5 of Set | Ushuaia\n",
      "Processing Record 6 of Set | Kimbe\n",
      "Processing Record 7 of Set | Yellowknife\n",
      "Processing Record 8 of Set | Lasa\n",
      "City not found.  Skipping...\n",
      "City not found.  Skipping...\n",
      "Processing Record 11 of Set | Punta Arenas\n",
      "Processing Record 12 of Set | Vila Velha\n",
      "Processing Record 13 of Set | Pottstown\n",
      "Processing Record 14 of Set | East London\n",
      "Processing Record 15 of Set | North Bend\n",
      "Processing Record 16 of Set | Taltal\n",
      "Processing Record 17 of Set | Hobart\n",
      "Processing Record 18 of Set | Caloundra\n",
      "Processing Record 19 of Set | Taoudenni\n",
      "Processing Record 20 of Set | Mar del Plata\n",
      "Processing Record 21 of Set | Jamestown\n",
      "Processing Record 22 of Set | Rikitea\n",
      "Processing Record 23 of Set | Albany\n",
      "Processing Record 24 of Set | Padang\n",
      "Processing Record 25 of Set | Qaanaaq\n",
      "City not found.  Skipping...\n",
      "Processing Record 27 of Set | Longyearbyen\n",
      "Processing Record 28 of Set | Pevek\n",
      "Processing Record 29 of Set | Pokrovsk\n",
      "Processing Record 30 of Set | Hermanus\n",
      "Processing Record 31 of Set | Tarakan\n",
      "Processing Record 32 of Set | Sao Joao da Barra\n",
      "Processing Record 33 of Set | Geraldton\n",
      "Processing Record 34 of Set | Chuy\n",
      "Processing Record 35 of Set | Vagur\n",
      "Processing Record 36 of Set | Kayes\n",
      "Processing Record 37 of Set | Awjilah\n",
      "Processing Record 38 of Set | Sao Filipe\n",
      "Processing Record 39 of Set | Villarrica\n",
      "Processing Record 40 of Set | Lakes Entrance\n",
      "Processing Record 41 of Set | Puerto del Rosario\n",
      "Processing Record 42 of Set | Fairbanks\n",
      "Processing Record 43 of Set | Saldanha\n",
      "Processing Record 44 of Set | Khandyga\n",
      "Processing Record 45 of Set | Dunedin\n",
      "City not found.  Skipping...\n",
      "Processing Record 47 of Set | Avarua\n",
      "Processing Record 48 of Set | Valley City\n",
      "Processing Record 49 of Set | Mataura\n",
      "-----------------------------\n",
      "Data Retrieval Complete\n",
      "-----------------------------\n"
     ]
    }
   ],
   "source": [
    "# latitudes = []\n",
    "# temperatures = []\n",
    "# found_cities = []\n",
    "\n",
    "# print(\"Beginning Data Retrieval\")\n",
    "\n",
    "# for city in cities_to_check:\n",
    "#     response = requests.get(query_url + city).json()\n",
    "#     city_name = cities_to_check[cities_to_check.index(city)]\n",
    "#     record_number = cities_to_check.index(city)\n",
    "    \n",
    "#     try:\n",
    "#         print(f\"Processing Record {record_number} of Set | {city_name}\")\n",
    "#         found_cities.append(city_name)\n",
    "#         latitudes.append(response[\"coord\"][\"lat\"])\n",
    "#         temperatures.append(response[\"main\"][\"temp\"])\n",
    "        \n",
    "#     except:\n",
    "#         print (\"City not found.  Skipping...\")\n",
    "        \n",
    "# print(\"-----------------------------\")\n",
    "# print(\"Data Retrieval Complete\")\n",
    "# print(\"-----------------------------\")\n",
    "\n",
    "\n",
    "\n",
    "# This block of code serves the same purpose as the block of code above.\n",
    "# The only difference is that we are using a subset of the entire list of cities for testing purposes.\n",
    "\n",
    "# We will soon use the pandas package to create a dataframe containing information about each city in our list.\n",
    "# Here initialize a list for everything related to the city we are interested in.\n",
    "# When we are ready to make our dataframe, we will first define a dictionary containing each of these lists.\n",
    "# The list of cities we generated earlier will most likely contain cities for which the OpenWeatherMap API has no data.\n",
    "# Therefore these lists should be of shorter length than our full list of cities.\n",
    "# We can only create a dataframe from a list of dictionaries if each list is the same length.\n",
    "# Therefore, we define the city_names list to hold cities only for which data was found.\n",
    "city_names = []\n",
    "city_cloudinesses = []\n",
    "city_countries = []\n",
    "city_timestamps = []\n",
    "city_humidities = []\n",
    "city_latitudes = []\n",
    "city_longitudes = []\n",
    "city_max_temperatures = []\n",
    "city_wind_speeds = []\n",
    "\n",
    "print(\"Beginning Data Retrieval\")\n",
    "\n",
    "# In this for-loop, we begin by using the requests package to return a json file containing the data we are interested in for each city.\n",
    "# Earlier, we checked the length of our cities_to_check list to confirm it is a sufficient amount.\n",
    "# We will also determine the index for each city, so the user can see how many cities have been checked in real time.\n",
    "for city in cities_to_check_subset_for_testing:\n",
    "    response = requests.get(query_url + city).json()\n",
    "    record_number = cities_to_check_subset_for_testing.index(city)\n",
    "    \n",
    "    # As stated before, the OpenWeatherMap API may not have data for every city in our list.\n",
    "    # We must therefore use a try block and an except block.\n",
    "    # This will ensure our program does not crash if the for-loop reaches a city for which the OpenWeatherMap API has no data.\n",
    "    try:\n",
    "        # By extracting the city name from the json file, the user can see which city the for-loop is currently testing, not only by index number, but by name.\n",
    "        city_name = response[\"name\"]\n",
    "        print(f\"Processing Record {record_number} of Set | {city_name}\")\n",
    "        city_names.append(response[\"name\"])\n",
    "        city_cloudinesses.append(response[\"clouds\"][\"all\"])\n",
    "        city_countries.append(response[\"sys\"][\"country\"])\n",
    "        city_timestamps.append(response[\"dt\"])\n",
    "        city_humidities.append(response[\"main\"][\"humidity\"])\n",
    "        city_latitudes.append(response[\"coord\"][\"lat\"])\n",
    "        city_longitudes.append(response[\"coord\"][\"lon\"])\n",
    "        city_max_temperatures.append(response[\"main\"][\"temp_max\"])\n",
    "        city_wind_speeds.append(response[\"wind\"][\"speed\"])\n",
    "        \n",
    "    except:\n",
    "        print (\"City not found.  Skipping...\")\n",
    "        \n",
    "print(\"-----------------------------\")\n",
    "print(\"Data Retrieval Complete\")\n",
    "print(\"-----------------------------\")"
   ]
  },
  {
   "cell_type": "code",
   "execution_count": 13,
   "metadata": {},
   "outputs": [],
   "source": [
    "# We will soon create a dataframe using the data we extracted earlier from the OpenWeatherMap API.\n",
    "# Here we define a dictionary of the lists we defined in the for-loop that made calls to the API.\n",
    "# We will use this dictionary for the data in our dataframe.\n",
    "weather_data_dictionary = {\n",
    "    \"City\": city_names,\n",
    "    \"Cloudiness\": city_cloudinesses,\n",
    "    \"Country\": city_countries,\n",
    "    \"UNIX Timestamp\": city_timestamps,\n",
    "    \"Humidity\": city_humidities,\n",
    "    \"Latitude\": city_latitudes,\n",
    "    \"Longitude\": city_longitudes,\n",
    "    \"Max Temperature\": city_max_temperatures,\n",
    "    \"Wind Speed\": city_wind_speeds\n",
    "}"
   ]
  },
  {
   "cell_type": "code",
   "execution_count": 14,
   "metadata": {},
   "outputs": [
    {
     "data": {
      "text/html": [
       "<div>\n",
       "<style scoped>\n",
       "    .dataframe tbody tr th:only-of-type {\n",
       "        vertical-align: middle;\n",
       "    }\n",
       "\n",
       "    .dataframe tbody tr th {\n",
       "        vertical-align: top;\n",
       "    }\n",
       "\n",
       "    .dataframe thead th {\n",
       "        text-align: right;\n",
       "    }\n",
       "</style>\n",
       "<table border=\"1\" class=\"dataframe\">\n",
       "  <thead>\n",
       "    <tr style=\"text-align: right;\">\n",
       "      <th></th>\n",
       "      <th>City</th>\n",
       "      <th>Cloudiness</th>\n",
       "      <th>Country</th>\n",
       "      <th>UNIX Timestamp</th>\n",
       "      <th>Humidity</th>\n",
       "      <th>Latitude</th>\n",
       "      <th>Longitude</th>\n",
       "      <th>Max Temperature</th>\n",
       "      <th>Wind Speed</th>\n",
       "    </tr>\n",
       "  </thead>\n",
       "  <tbody>\n",
       "    <tr>\n",
       "      <th>0</th>\n",
       "      <td>Yola</td>\n",
       "      <td>12</td>\n",
       "      <td>NG</td>\n",
       "      <td>1539220837</td>\n",
       "      <td>85</td>\n",
       "      <td>9.26</td>\n",
       "      <td>12.45</td>\n",
       "      <td>72.81</td>\n",
       "      <td>2.93</td>\n",
       "    </tr>\n",
       "    <tr>\n",
       "      <th>1</th>\n",
       "      <td>Vaini</td>\n",
       "      <td>0</td>\n",
       "      <td>IN</td>\n",
       "      <td>1539220653</td>\n",
       "      <td>87</td>\n",
       "      <td>15.34</td>\n",
       "      <td>74.49</td>\n",
       "      <td>64.98</td>\n",
       "      <td>1.92</td>\n",
       "    </tr>\n",
       "    <tr>\n",
       "      <th>2</th>\n",
       "      <td>Yelan-Kolenovskiy</td>\n",
       "      <td>8</td>\n",
       "      <td>RU</td>\n",
       "      <td>1539220838</td>\n",
       "      <td>83</td>\n",
       "      <td>51.16</td>\n",
       "      <td>41.15</td>\n",
       "      <td>42.80</td>\n",
       "      <td>9.31</td>\n",
       "    </tr>\n",
       "    <tr>\n",
       "      <th>3</th>\n",
       "      <td>Turukhansk</td>\n",
       "      <td>48</td>\n",
       "      <td>RU</td>\n",
       "      <td>1539220838</td>\n",
       "      <td>98</td>\n",
       "      <td>65.80</td>\n",
       "      <td>87.96</td>\n",
       "      <td>30.38</td>\n",
       "      <td>10.09</td>\n",
       "    </tr>\n",
       "    <tr>\n",
       "      <th>4</th>\n",
       "      <td>Kapaa</td>\n",
       "      <td>75</td>\n",
       "      <td>US</td>\n",
       "      <td>1539215760</td>\n",
       "      <td>65</td>\n",
       "      <td>22.08</td>\n",
       "      <td>-159.32</td>\n",
       "      <td>86.00</td>\n",
       "      <td>10.29</td>\n",
       "    </tr>\n",
       "  </tbody>\n",
       "</table>\n",
       "</div>"
      ],
      "text/plain": [
       "                City  Cloudiness Country  UNIX Timestamp  Humidity  Latitude  \\\n",
       "0               Yola          12      NG      1539220837        85      9.26   \n",
       "1              Vaini           0      IN      1539220653        87     15.34   \n",
       "2  Yelan-Kolenovskiy           8      RU      1539220838        83     51.16   \n",
       "3         Turukhansk          48      RU      1539220838        98     65.80   \n",
       "4              Kapaa          75      US      1539215760        65     22.08   \n",
       "\n",
       "   Longitude  Max Temperature  Wind Speed  \n",
       "0      12.45            72.81        2.93  \n",
       "1      74.49            64.98        1.92  \n",
       "2      41.15            42.80        9.31  \n",
       "3      87.96            30.38       10.09  \n",
       "4    -159.32            86.00       10.29  "
      ]
     },
     "execution_count": 14,
     "metadata": {},
     "output_type": "execute_result"
    }
   ],
   "source": [
    "# # Here we create a dataframe using the dictionary of lists we defined earlier.\n",
    "weather_data = pd.DataFrame(weather_data_dictionary)\n",
    "weather_data.head()"
   ]
  },
  {
   "cell_type": "code",
   "execution_count": null,
   "metadata": {},
   "outputs": [],
   "source": [
    "# datetime.datetime.fromtimestamp(1539040243)\n",
    "# time.strftime(\"%Y-%m-%d\")"
   ]
  },
  {
   "cell_type": "code",
   "execution_count": null,
   "metadata": {},
   "outputs": [],
   "source": [
    "# dates = []\n",
    "# for timestamp in weather_data[\"UNIX Timestamp\"]:\n",
    "#     dates.append(datetime.datetime.fromtimestamp(timestamp))\n",
    "#     time.strftime(\"%Y-%m-%d\")"
   ]
  },
  {
   "cell_type": "code",
   "execution_count": null,
   "metadata": {},
   "outputs": [],
   "source": [
    "# weather_data[\"Date\"] = dates\n",
    "# weather_data.head()"
   ]
  },
  {
   "cell_type": "code",
   "execution_count": null,
   "metadata": {
    "scrolled": true
   },
   "outputs": [],
   "source": [
    "# # The API call returned the time as a UNIX timestamp, so here we add a column to our dataframe showing a more readable human time.\n",
    "# # We create this column us the to_datetime function of the pandas package.\n",
    "# weather_data[\"Date\"] = pd.to_datetime(weather_data[\"UNIX Timestamp\"], unit=\"s\")\n",
    "# # weather_data[\"Date\"] = pd.to_datetime(weather_data[\"UNIX Timestamp\"].astype(str))\n",
    "# # weather_data[\"Date\"] = weather_data.astype(str)\n",
    "# weather_data.head()"
   ]
  },
  {
   "cell_type": "code",
   "execution_count": 15,
   "metadata": {},
   "outputs": [
    {
     "data": {
      "text/html": [
       "<div>\n",
       "<style scoped>\n",
       "    .dataframe tbody tr th:only-of-type {\n",
       "        vertical-align: middle;\n",
       "    }\n",
       "\n",
       "    .dataframe tbody tr th {\n",
       "        vertical-align: top;\n",
       "    }\n",
       "\n",
       "    .dataframe thead th {\n",
       "        text-align: right;\n",
       "    }\n",
       "</style>\n",
       "<table border=\"1\" class=\"dataframe\">\n",
       "  <thead>\n",
       "    <tr style=\"text-align: right;\">\n",
       "      <th></th>\n",
       "      <th>City</th>\n",
       "      <th>Cloudiness</th>\n",
       "      <th>Country</th>\n",
       "      <th>UNIX Timestamp</th>\n",
       "      <th>Humidity</th>\n",
       "      <th>Latitude</th>\n",
       "      <th>Longitude</th>\n",
       "      <th>Max Temperature</th>\n",
       "      <th>Wind Speed</th>\n",
       "      <th>Date</th>\n",
       "    </tr>\n",
       "  </thead>\n",
       "  <tbody>\n",
       "    <tr>\n",
       "      <th>0</th>\n",
       "      <td>Yola</td>\n",
       "      <td>12</td>\n",
       "      <td>NG</td>\n",
       "      <td>1539220837</td>\n",
       "      <td>85</td>\n",
       "      <td>9.26</td>\n",
       "      <td>12.45</td>\n",
       "      <td>72.81</td>\n",
       "      <td>2.93</td>\n",
       "      <td>2018-10-11 01:20:37</td>\n",
       "    </tr>\n",
       "    <tr>\n",
       "      <th>1</th>\n",
       "      <td>Vaini</td>\n",
       "      <td>0</td>\n",
       "      <td>IN</td>\n",
       "      <td>1539220653</td>\n",
       "      <td>87</td>\n",
       "      <td>15.34</td>\n",
       "      <td>74.49</td>\n",
       "      <td>64.98</td>\n",
       "      <td>1.92</td>\n",
       "      <td>2018-10-11 01:17:33</td>\n",
       "    </tr>\n",
       "    <tr>\n",
       "      <th>2</th>\n",
       "      <td>Yelan-Kolenovskiy</td>\n",
       "      <td>8</td>\n",
       "      <td>RU</td>\n",
       "      <td>1539220838</td>\n",
       "      <td>83</td>\n",
       "      <td>51.16</td>\n",
       "      <td>41.15</td>\n",
       "      <td>42.80</td>\n",
       "      <td>9.31</td>\n",
       "      <td>2018-10-11 01:20:38</td>\n",
       "    </tr>\n",
       "    <tr>\n",
       "      <th>3</th>\n",
       "      <td>Turukhansk</td>\n",
       "      <td>48</td>\n",
       "      <td>RU</td>\n",
       "      <td>1539220838</td>\n",
       "      <td>98</td>\n",
       "      <td>65.80</td>\n",
       "      <td>87.96</td>\n",
       "      <td>30.38</td>\n",
       "      <td>10.09</td>\n",
       "      <td>2018-10-11 01:20:38</td>\n",
       "    </tr>\n",
       "    <tr>\n",
       "      <th>4</th>\n",
       "      <td>Kapaa</td>\n",
       "      <td>75</td>\n",
       "      <td>US</td>\n",
       "      <td>1539215760</td>\n",
       "      <td>65</td>\n",
       "      <td>22.08</td>\n",
       "      <td>-159.32</td>\n",
       "      <td>86.00</td>\n",
       "      <td>10.29</td>\n",
       "      <td>2018-10-10 23:56:00</td>\n",
       "    </tr>\n",
       "  </tbody>\n",
       "</table>\n",
       "</div>"
      ],
      "text/plain": [
       "                City  Cloudiness Country  UNIX Timestamp  Humidity  Latitude  \\\n",
       "0               Yola          12      NG      1539220837        85      9.26   \n",
       "1              Vaini           0      IN      1539220653        87     15.34   \n",
       "2  Yelan-Kolenovskiy           8      RU      1539220838        83     51.16   \n",
       "3         Turukhansk          48      RU      1539220838        98     65.80   \n",
       "4              Kapaa          75      US      1539215760        65     22.08   \n",
       "\n",
       "   Longitude  Max Temperature  Wind Speed                Date  \n",
       "0      12.45            72.81        2.93 2018-10-11 01:20:37  \n",
       "1      74.49            64.98        1.92 2018-10-11 01:17:33  \n",
       "2      41.15            42.80        9.31 2018-10-11 01:20:38  \n",
       "3      87.96            30.38       10.09 2018-10-11 01:20:38  \n",
       "4    -159.32            86.00       10.29 2018-10-10 23:56:00  "
      ]
     },
     "execution_count": 15,
     "metadata": {},
     "output_type": "execute_result"
    }
   ],
   "source": [
    "weather_data[\"Date\"] = pd.to_datetime(weather_data[\"UNIX Timestamp\"], unit=\"s\")\n",
    "weather_data.head()"
   ]
  },
  {
   "cell_type": "code",
   "execution_count": 16,
   "metadata": {},
   "outputs": [
    {
     "data": {
      "text/html": [
       "<div>\n",
       "<style scoped>\n",
       "    .dataframe tbody tr th:only-of-type {\n",
       "        vertical-align: middle;\n",
       "    }\n",
       "\n",
       "    .dataframe tbody tr th {\n",
       "        vertical-align: top;\n",
       "    }\n",
       "\n",
       "    .dataframe thead th {\n",
       "        text-align: right;\n",
       "    }\n",
       "</style>\n",
       "<table border=\"1\" class=\"dataframe\">\n",
       "  <thead>\n",
       "    <tr style=\"text-align: right;\">\n",
       "      <th></th>\n",
       "      <th>City</th>\n",
       "      <th>Cloudiness</th>\n",
       "      <th>Country</th>\n",
       "      <th>UNIX Timestamp</th>\n",
       "      <th>Humidity</th>\n",
       "      <th>Latitude</th>\n",
       "      <th>Longitude</th>\n",
       "      <th>Max Temperature</th>\n",
       "      <th>Wind Speed</th>\n",
       "      <th>Date</th>\n",
       "    </tr>\n",
       "  </thead>\n",
       "  <tbody>\n",
       "    <tr>\n",
       "      <th>0</th>\n",
       "      <td>Yola</td>\n",
       "      <td>12</td>\n",
       "      <td>NG</td>\n",
       "      <td>1539220837</td>\n",
       "      <td>85</td>\n",
       "      <td>9.26</td>\n",
       "      <td>12.45</td>\n",
       "      <td>72.81</td>\n",
       "      <td>2.93</td>\n",
       "      <td>2018-10-11</td>\n",
       "    </tr>\n",
       "    <tr>\n",
       "      <th>1</th>\n",
       "      <td>Vaini</td>\n",
       "      <td>0</td>\n",
       "      <td>IN</td>\n",
       "      <td>1539220653</td>\n",
       "      <td>87</td>\n",
       "      <td>15.34</td>\n",
       "      <td>74.49</td>\n",
       "      <td>64.98</td>\n",
       "      <td>1.92</td>\n",
       "      <td>2018-10-11</td>\n",
       "    </tr>\n",
       "    <tr>\n",
       "      <th>2</th>\n",
       "      <td>Yelan-Kolenovskiy</td>\n",
       "      <td>8</td>\n",
       "      <td>RU</td>\n",
       "      <td>1539220838</td>\n",
       "      <td>83</td>\n",
       "      <td>51.16</td>\n",
       "      <td>41.15</td>\n",
       "      <td>42.80</td>\n",
       "      <td>9.31</td>\n",
       "      <td>2018-10-11</td>\n",
       "    </tr>\n",
       "    <tr>\n",
       "      <th>3</th>\n",
       "      <td>Turukhansk</td>\n",
       "      <td>48</td>\n",
       "      <td>RU</td>\n",
       "      <td>1539220838</td>\n",
       "      <td>98</td>\n",
       "      <td>65.80</td>\n",
       "      <td>87.96</td>\n",
       "      <td>30.38</td>\n",
       "      <td>10.09</td>\n",
       "      <td>2018-10-11</td>\n",
       "    </tr>\n",
       "    <tr>\n",
       "      <th>4</th>\n",
       "      <td>Kapaa</td>\n",
       "      <td>75</td>\n",
       "      <td>US</td>\n",
       "      <td>1539215760</td>\n",
       "      <td>65</td>\n",
       "      <td>22.08</td>\n",
       "      <td>-159.32</td>\n",
       "      <td>86.00</td>\n",
       "      <td>10.29</td>\n",
       "      <td>2018-10-10</td>\n",
       "    </tr>\n",
       "  </tbody>\n",
       "</table>\n",
       "</div>"
      ],
      "text/plain": [
       "                City  Cloudiness Country  UNIX Timestamp  Humidity  Latitude  \\\n",
       "0               Yola          12      NG      1539220837        85      9.26   \n",
       "1              Vaini           0      IN      1539220653        87     15.34   \n",
       "2  Yelan-Kolenovskiy           8      RU      1539220838        83     51.16   \n",
       "3         Turukhansk          48      RU      1539220838        98     65.80   \n",
       "4              Kapaa          75      US      1539215760        65     22.08   \n",
       "\n",
       "   Longitude  Max Temperature  Wind Speed        Date  \n",
       "0      12.45            72.81        2.93  2018-10-11  \n",
       "1      74.49            64.98        1.92  2018-10-11  \n",
       "2      41.15            42.80        9.31  2018-10-11  \n",
       "3      87.96            30.38       10.09  2018-10-11  \n",
       "4    -159.32            86.00       10.29  2018-10-10  "
      ]
     },
     "execution_count": 16,
     "metadata": {},
     "output_type": "execute_result"
    }
   ],
   "source": [
    "dates = []\n",
    "\n",
    "for date in weather_data[\"Date\"]:\n",
    "    date = str(date)[:10]\n",
    "    dates.append(date)\n",
    "\n",
    "weather_data[\"Date\"] = dates\n",
    "\n",
    "weather_data.head()"
   ]
  },
  {
   "cell_type": "code",
   "execution_count": 17,
   "metadata": {},
   "outputs": [],
   "source": [
    "# After forming a dataframe using the weather data we extracted from the OpenWeatherMap API, we will make a csv file therefrom.\n",
    "weather_data_csv = \"Output/weather_data.csv\""
   ]
  },
  {
   "cell_type": "markdown",
   "metadata": {},
   "source": [
    "## In this section, we create various graphs showing the relationship between latitude, and a weather-related variable."
   ]
  },
  {
   "cell_type": "code",
   "execution_count": 18,
   "metadata": {},
   "outputs": [
    {
     "data": {
      "text/plain": [
       "2"
      ]
     },
     "execution_count": 18,
     "metadata": {},
     "output_type": "execute_result"
    }
   ],
   "source": [
    "weather_data[\"Date\"].nunique()"
   ]
  },
  {
   "cell_type": "code",
   "execution_count": 19,
   "metadata": {},
   "outputs": [
    {
     "data": {
      "text/plain": [
       "array(['2018-10-11', '2018-10-10'], dtype=object)"
      ]
     },
     "execution_count": 19,
     "metadata": {},
     "output_type": "execute_result"
    }
   ],
   "source": [
    "weather_data[\"Date\"].unique()"
   ]
  },
  {
   "cell_type": "code",
   "execution_count": 20,
   "metadata": {},
   "outputs": [
    {
     "name": "stdout",
     "output_type": "stream",
     "text": [
      "There is more than one date in the date column.\n",
      "Try clearing all cells and running the API-call for-loop again.\n"
     ]
    }
   ],
   "source": [
    "# We will display the date on each graph using a f-string.\n",
    "# Every value in the the Date column of our weather_data dataframe has the same value, as each value came from an API call made at the same time in a for-loop.\n",
    "# Therefore we simply use the value of the first row for our current_date variable.\n",
    "# current_date = weather_data[\"Date\"][0]\n",
    "\n",
    "if weather_data[\"Date\"].nunique == 1:\n",
    "    current_date = weather_data[\"Date\"][0]\n",
    "else:\n",
    "    print(\"There is more than one date in the date column.\\nTry clearing all cells and running the API-call for-loop again.\")"
   ]
  },
  {
   "cell_type": "code",
   "execution_count": 21,
   "metadata": {},
   "outputs": [
    {
     "ename": "NameError",
     "evalue": "name 'current_date' is not defined",
     "output_type": "error",
     "traceback": [
      "\u001b[1;31m---------------------------------------------------------------------------\u001b[0m",
      "\u001b[1;31mNameError\u001b[0m                                 Traceback (most recent call last)",
      "\u001b[1;32m<ipython-input-21-bd29797f28f2>\u001b[0m in \u001b[0;36m<module>\u001b[1;34m()\u001b[0m\n\u001b[0;32m      1\u001b[0m \u001b[1;31m# Here we create a scatter plot showing the relationship between latitude, and the maximum temperature for the day.\u001b[0m\u001b[1;33m\u001b[0m\u001b[1;33m\u001b[0m\u001b[0m\n\u001b[0;32m      2\u001b[0m \u001b[0mplt\u001b[0m\u001b[1;33m.\u001b[0m\u001b[0mscatter\u001b[0m\u001b[1;33m(\u001b[0m\u001b[0mweather_data\u001b[0m\u001b[1;33m[\u001b[0m\u001b[1;34m\"Latitude\"\u001b[0m\u001b[1;33m]\u001b[0m\u001b[1;33m,\u001b[0m \u001b[0mweather_data\u001b[0m\u001b[1;33m[\u001b[0m\u001b[1;34m\"Max Temperature\"\u001b[0m\u001b[1;33m]\u001b[0m\u001b[1;33m)\u001b[0m\u001b[1;33m\u001b[0m\u001b[0m\n\u001b[1;32m----> 3\u001b[1;33m \u001b[0mplt\u001b[0m\u001b[1;33m.\u001b[0m\u001b[0mtitle\u001b[0m\u001b[1;33m(\u001b[0m\u001b[1;34mf\"City Latitude vs Max Temperature (F) {current_date}\"\u001b[0m\u001b[1;33m)\u001b[0m\u001b[1;33m\u001b[0m\u001b[0m\n\u001b[0m\u001b[0;32m      4\u001b[0m \u001b[0mplt\u001b[0m\u001b[1;33m.\u001b[0m\u001b[0mxlabel\u001b[0m\u001b[1;33m(\u001b[0m\u001b[1;34m\"Latitude\"\u001b[0m\u001b[1;33m)\u001b[0m\u001b[1;33m\u001b[0m\u001b[0m\n\u001b[0;32m      5\u001b[0m \u001b[0mplt\u001b[0m\u001b[1;33m.\u001b[0m\u001b[0mylabel\u001b[0m\u001b[1;33m(\u001b[0m\u001b[1;34m\"Max Temperature (F)\"\u001b[0m\u001b[1;33m)\u001b[0m\u001b[1;33m\u001b[0m\u001b[0m\n",
      "\u001b[1;31mNameError\u001b[0m: name 'current_date' is not defined"
     ]
    },
    {
     "data": {
      "image/png": "[encoded data removed]",
      "text/plain": [
       "<Figure size 432x288 with 1 Axes>"
      ]
     },
     "metadata": {},
     "output_type": "display_data"
    }
   ],
   "source": [
    "# Here we create a scatter plot showing the relationship between latitude, and the maximum temperature for the day.\n",
    "plt.scatter(weather_data[\"Latitude\"], weather_data[\"Max Temperature\"])\n",
    "plt.title(f\"City Latitude vs Max Temperature (F) {current_date}\")\n",
    "plt.xlabel(\"Latitude\")\n",
    "plt.ylabel(\"Max Temperature (F)\")\n",
    "plt.grid()"
   ]
  },
  {
   "cell_type": "code",
   "execution_count": null,
   "metadata": {},
   "outputs": [],
   "source": [
    "# Here we create a graph showing the relationship between latitude, and the humidity for the day.\n",
    "plt.scatter(weather_data[\"Latitude\"], weather_data[\"Humidity\"])\n",
    "plt.title(f\"City Latitude vs Humidity (%) {current_date}}\")\n",
    "plt.xlabel(\"Latitude\")\n",
    "plt.ylabel(\"Humidity (%)\")\n",
    "plt.grid()"
   ]
  },
  {
   "cell_type": "code",
   "execution_count": null,
   "metadata": {},
   "outputs": [],
   "source": [
    "# Here we create a graph showing the relationship between latitude and cloudiness for the day.\n",
    "plt.scatter(weather_data[\"Latitude\"], weather_data[\"Cloudiness\"])\n",
    "plt.title(f\"City Latitude vs Cloudiness (%) {current_date}}\")\n",
    "plt.xlabel(\"Latitude\")\n",
    "plt.ylabel(\"Cloudiness (%)\")\n",
    "plt.grid()"
   ]
  },
  {
   "cell_type": "code",
   "execution_count": null,
   "metadata": {},
   "outputs": [],
   "source": [
    "# Here we create a graph showing the relationship between latitude and wind speed for the day.\n",
    "plt.scatter(weather_data[\"Latitude\"], weather_data[\"Wind Speed\"])\n",
    "plt.title(f\"City Latitude vs Wind Speed (mph) {current_date}\")\n",
    "plt.xlabel(\"Latitude\")\n",
    "plt.ylabel(\"Wind Speed (mph)\")\n",
    "plt.grid()"
   ]
  },
  {
   "cell_type": "code",
   "execution_count": null,
   "metadata": {},
   "outputs": [],
   "source": []
  },
  {
   "cell_type": "code",
   "execution_count": null,
   "metadata": {},
   "outputs": [],
   "source": []
  }
 ],
 "metadata": {
  "kernelspec": {
   "display_name": "Python 3",
   "language": "python",
   "name": "python3"
  },
  "language_info": {
   "codemirror_mode": {
    "name": "ipython",
    "version": 3
   },
   "file_extension": ".py",
   "mimetype": "text/x-python",
   "name": "python",
   "nbconvert_exporter": "python",
   "pygments_lexer": "ipython3",
   "version": "3.6.5"
  }
 },
 "nbformat": 4,
 "nbformat_minor": 2
}
