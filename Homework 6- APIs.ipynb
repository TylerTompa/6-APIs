{
 "cells": [
  {
   "cell_type": "code",
   "execution_count": 1,
   "metadata": {},
   "outputs": [],
   "source": [
    "# We must first import our relevant packages to this project.\n",
    "import pandas as pd\n",
    "import numpy as np\n",
    "import matplotlib.pyplot as plt\n",
    "\n",
    "# We will use the requests package to call on APIs.\n",
    "import requests\n",
    "\n",
    "import time\n",
    "import datetime\n",
    "\n",
    "# We will use the citipy package to generate a list of randomly selected cities.\n",
    "from citipy import citipy\n",
    "\n",
    "# We will use the getpass function to keep our API key hidden.\n",
    "import getpass"
   ]
  },
  {
   "cell_type": "code",
   "execution_count": 2,
   "metadata": {},
   "outputs": [
    {
     "name": "stdout",
     "output_type": "stream",
     "text": [
      "········\n"
     ]
    }
   ],
   "source": [
    "# We will use the getpass function to define the API key we are using to make requests, while keeping it hidden.\n",
    "api_key = getpass.getpass()"
   ]
  },
  {
   "cell_type": "code",
   "execution_count": 3,
   "metadata": {},
   "outputs": [],
   "source": [
    "# The cities_to_check variable will be a list containing randomly selected cities using the citipy package.\n",
    "# Later we will make API requests to OpenWeatherMap and try to extract data related to each city.\n",
    "# The citipy package may return cities, for which OpenWeatherMap has no data, hence, we are \"checking\" each city.\n",
    "# Later we will define a new list containing only those cities, for which OpenWeatherMap does have data.\n",
    "cities_to_check = []"
   ]
  },
  {
   "cell_type": "code",
   "execution_count": 4,
   "metadata": {},
   "outputs": [
    {
     "data": {
      "text/plain": [
       "609"
      ]
     },
     "execution_count": 4,
     "metadata": {},
     "output_type": "execute_result"
    }
   ],
   "source": [
    "# We will use the numpy and citipy packages to generate a list of randomly selected cities.\n",
    "# We will first define two lists: one for latitude, and one for longitude.\n",
    "# We will then use the zip function with these two lists to form coodinates pairs of latitude and longitude.\n",
    "latitudes = np.random.uniform(low=-90.000, high=90.000, size=1500)\n",
    "longitudes = np.random.uniform(low=-180.000, high=180.000, size=1500)\n",
    "latitudes_and_longitudes = zip(latitudes, longitudes)\n",
    "\n",
    "# The citipy package will return the city closest to each coordinate pair.\n",
    "# By using this method of returning cities in a for-loop, we will generate a list of cities.\n",
    "for latitude_and_longitude in latitudes_and_longitudes:\n",
    "    city = citipy.nearest_city(latitude_and_longitude[0], latitude_and_longitude[1]).city_name\n",
    "    \n",
    "    # We do not want to add the same city to our list more than once,\n",
    "    # so we only append a city to our list if it is not already in the list.\n",
    "    if city not in cities_to_check:\n",
    "        cities_to_check.append(city)\n",
    "\n",
    "# Here we print the len of the cities_to_check variable to confirm that we have a sufficient amount of cities.\n",
    "len(cities_to_check)"
   ]
  },
  {
   "cell_type": "code",
   "execution_count": 5,
   "metadata": {},
   "outputs": [],
   "source": [
    "# Using the requests package, we will be making calls to the OpenWeatherMap API.\n",
    "# First we define the general URL variable,\n",
    "# then we will be able to use this base URL, while defining other elements,\n",
    "# such as which units to return numerical data in, and which city to check.\n",
    "url = \"http://api.openweathermap.org/data/2.5/weather?\"\n",
    "units = \"imperial\"\n",
    "\n",
    "# This defines the more specific URL.\n",
    "# It uses the general URL we defined earlier, and inserts our API key, the units we want our results in, and later in a for loop we will concatenate the specific city to the end of the URL.\n",
    "query_url = f\"{url}appid={api_key}&units={units}&q=\""
   ]
  },
  {
   "cell_type": "code",
   "execution_count": 6,
   "metadata": {},
   "outputs": [
    {
     "data": {
      "text/plain": [
       "'http://api.openweathermap.org/data/2.5/weather?appid=524b3af689309a14b77f845e80e23643&units=imperial&q='"
      ]
     },
     "execution_count": 6,
     "metadata": {},
     "output_type": "execute_result"
    }
   ],
   "source": [
    "query_url"
   ]
  },
  {
   "cell_type": "code",
   "execution_count": 7,
   "metadata": {
    "scrolled": true
   },
   "outputs": [],
   "source": [
    "# We are only allowed to make a limited amount of requests per a certain time restraint.\n",
    "# Here we make a subset of our cities_to_check list containing only the first 50 cities.\n",
    "# We will use this subset-list for testing purposes, and only use our full list once we are confident our code will work.\n",
    "cities_to_check_subset_for_testing = cities_to_check[:50]"
   ]
  },
  {
   "cell_type": "code",
   "execution_count": 18,
   "metadata": {
    "scrolled": true
   },
   "outputs": [
    {
     "name": "stdout",
     "output_type": "stream",
     "text": [
      "Beginning Data Retrieval\n",
      "Processing Record 0 of Set | Georgetown\n",
      "Processing Record 1 of Set | Carbonia\n",
      "Processing Record 2 of Set | Burhaniye\n",
      "Processing Record 3 of Set | Rikitea\n",
      "City not found.  Skipping...\n",
      "Processing Record 5 of Set | Atuona\n",
      "City not found.  Skipping...\n",
      "City not found.  Skipping...\n",
      "Processing Record 8 of Set | Tuatapere\n",
      "Processing Record 9 of Set | Ushuaia\n",
      "Processing Record 10 of Set | Kodiak\n",
      "Processing Record 11 of Set | Kavieng\n",
      "City not found.  Skipping...\n",
      "Processing Record 13 of Set | Cape Town\n",
      "Processing Record 14 of Set | Bredasdorp\n",
      "Processing Record 15 of Set | Yellowknife\n",
      "Processing Record 16 of Set | Tura\n",
      "Processing Record 17 of Set | Puerto Ayora\n",
      "Processing Record 18 of Set | Lehi\n",
      "Processing Record 19 of Set | Klaksvik\n",
      "Processing Record 20 of Set | Flinders\n",
      "Processing Record 21 of Set | Mount Isa\n",
      "Processing Record 22 of Set | Saint George\n",
      "Processing Record 23 of Set | Chapais\n",
      "Processing Record 24 of Set | Bluff\n",
      "Processing Record 25 of Set | Alofi\n",
      "City not found.  Skipping...\n",
      "Processing Record 27 of Set | Kaitangata\n",
      "Processing Record 28 of Set | Bambous Virieux\n",
      "Processing Record 29 of Set | Verkh-Chebula\n",
      "Processing Record 30 of Set | Saldanha\n",
      "City not found.  Skipping...\n",
      "Processing Record 32 of Set | Jasper\n",
      "Processing Record 33 of Set | Hermanus\n",
      "Processing Record 34 of Set | Novikovo\n",
      "Processing Record 35 of Set | Olga\n",
      "Processing Record 36 of Set | Beringovskiy\n",
      "Processing Record 37 of Set | Kirra\n",
      "Processing Record 38 of Set | Berkakit\n",
      "Processing Record 39 of Set | Vaini\n",
      "Processing Record 40 of Set | Busselton\n",
      "Processing Record 41 of Set | Knysna\n",
      "Processing Record 42 of Set | Talnakh\n",
      "Processing Record 43 of Set | Dawei\n",
      "Processing Record 44 of Set | Bethel\n",
      "Processing Record 45 of Set | Kargat\n",
      "Processing Record 46 of Set | New Norfolk\n",
      "Processing Record 47 of Set | Chuy\n",
      "Processing Record 48 of Set | Barrow\n",
      "Processing Record 49 of Set | Sorland\n",
      "-----------------------------\n",
      "Data Retrieval Complete\n",
      "-----------------------------\n"
     ]
    }
   ],
   "source": [
    "# latitudes = []\n",
    "# temperatures = []\n",
    "# found_cities = []\n",
    "\n",
    "# print(\"Beginning Data Retrieval\")\n",
    "\n",
    "# for city in cities_to_check:\n",
    "#     response = requests.get(query_url + city).json()\n",
    "#     city_name = cities_to_check[cities_to_check.index(city)]\n",
    "#     record_number = cities_to_check.index(city)\n",
    "    \n",
    "#     try:\n",
    "#         print(f\"Processing Record {record_number} of Set | {city_name}\")\n",
    "#         found_cities.append(city_name)\n",
    "#         latitudes.append(response[\"coord\"][\"lat\"])\n",
    "#         temperatures.append(response[\"main\"][\"temp\"])\n",
    "        \n",
    "#     except:\n",
    "#         print (\"City not found.  Skipping...\")\n",
    "        \n",
    "# print(\"-----------------------------\")\n",
    "# print(\"Data Retrieval Complete\")\n",
    "# print(\"-----------------------------\")\n",
    "\n",
    "\n",
    "\n",
    "# This block of code serves the same purpose as the block of code above.\n",
    "# The only difference is that we are using a subset of the entire list of cities for testing purposes.\n",
    "\n",
    "# We will soon use the pandas package to create a dataframe containing information about each city in our list.\n",
    "# Here initialize a list for everything related to the city we are interested in.\n",
    "# When we are ready to make our dataframe, we will first define a dictionary containing each of these lists.\n",
    "# The list of cities we generated earlier will most likely contain cities for which the OpenWeatherMap API has no data.\n",
    "# Therefore these lists should be of shorter length than our full list of cities.\n",
    "# We can only create a dataframe from a list of dictionaries if each list is the same length.\n",
    "# Therefore, we define the city_names list to hold cities only for which data was found.\n",
    "city_names = []\n",
    "city_cloudinesses = []\n",
    "city_countries = []\n",
    "city_timestamps = []\n",
    "city_humidities = []\n",
    "city_latitudes = []\n",
    "city_longitudes = []\n",
    "city_max_temperatures = []\n",
    "city_wind_speeds = []\n",
    "\n",
    "print(\"Beginning Data Retrieval\")\n",
    "\n",
    "# In this for-loop, we begin by using the requests package to return a json file containing the data we are interested in for each city.\n",
    "# Earlier, we checked the length of our cities_to_check list to confirm it is a sufficient amount.\n",
    "# We will also determine the index for each city, so the user can see how many cities have been checked in real time.\n",
    "for city in cities_to_check_subset_for_testing:\n",
    "    response = requests.get(query_url + city).json()\n",
    "    record_number = cities_to_check_subset_for_testing.index(city)\n",
    "    \n",
    "    # As stated before, the OpenWeatherMap API may not have data for every city in our list.\n",
    "    # We must therefore use a try block and an except block.\n",
    "    # This will ensure our program does not crash if the for-loop reaches a city for which the OpenWeatherMap API has no data.\n",
    "    try:\n",
    "        # By extracting the city name from the json file, the user can see which city the for-loop is currently testing, not only by index number, but by name.\n",
    "        city_name = response[\"name\"]\n",
    "        print(f\"Processing Record {record_number} of Set | {city_name}\")\n",
    "        city_names.append(response[\"name\"])\n",
    "        city_cloudinesses.append(response[\"clouds\"][\"all\"])\n",
    "        city_countries.append(response[\"sys\"][\"country\"])\n",
    "        city_timestamps.append(response[\"dt\"])\n",
    "        city_humidities.append(response[\"main\"][\"humidity\"])\n",
    "        city_latitudes.append(response[\"coord\"][\"lat\"])\n",
    "        city_longitudes.append(response[\"coord\"][\"lon\"])\n",
    "        city_max_temperatures.append(response[\"main\"][\"temp_max\"])\n",
    "        city_wind_speeds.append(response[\"wind\"][\"speed\"])\n",
    "        \n",
    "    except:\n",
    "        print (\"City not found.  Skipping...\")\n",
    "        \n",
    "print(\"-----------------------------\")\n",
    "print(\"Data Retrieval Complete\")\n",
    "print(\"-----------------------------\")"
   ]
  },
  {
   "cell_type": "code",
   "execution_count": 19,
   "metadata": {},
   "outputs": [],
   "source": [
    "# We will soon create a dataframe using the data we extracted earlier from the OpenWeatherMap API.\n",
    "# Here we define a dictionary of the lists we defined in the for-loop that made calls to the API.\n",
    "# We will use this dictionary for the data in our dataframe.\n",
    "weather_data_dictionary = {\n",
    "    \"City\": city_names,\n",
    "    \"Cloudiness\": city_cloudinesses,\n",
    "    \"Country\": city_countries,\n",
    "    \"UNIX Timestamp\": city_timestamps,\n",
    "    \"Humidity\": city_humidities,\n",
    "    \"Latitude\": city_latitudes,\n",
    "    \"Longitude\": city_longitudes,\n",
    "    \"Max Temperature\": city_max_temperatures,\n",
    "    \"Wind Speed\": city_wind_speeds\n",
    "}"
   ]
  },
  {
   "cell_type": "code",
   "execution_count": 20,
   "metadata": {},
   "outputs": [
    {
     "data": {
      "text/html": [
       "<div>\n",
       "<style scoped>\n",
       "    .dataframe tbody tr th:only-of-type {\n",
       "        vertical-align: middle;\n",
       "    }\n",
       "\n",
       "    .dataframe tbody tr th {\n",
       "        vertical-align: top;\n",
       "    }\n",
       "\n",
       "    .dataframe thead th {\n",
       "        text-align: right;\n",
       "    }\n",
       "</style>\n",
       "<table border=\"1\" class=\"dataframe\">\n",
       "  <thead>\n",
       "    <tr style=\"text-align: right;\">\n",
       "      <th></th>\n",
       "      <th>City</th>\n",
       "      <th>Cloudiness</th>\n",
       "      <th>Country</th>\n",
       "      <th>UNIX Timestamp</th>\n",
       "      <th>Humidity</th>\n",
       "      <th>Latitude</th>\n",
       "      <th>Longitude</th>\n",
       "      <th>Max Temperature</th>\n",
       "      <th>Wind Speed</th>\n",
       "    </tr>\n",
       "  </thead>\n",
       "  <tbody>\n",
       "    <tr>\n",
       "      <th>0</th>\n",
       "      <td>Georgetown</td>\n",
       "      <td>40</td>\n",
       "      <td>GY</td>\n",
       "      <td>1539194400</td>\n",
       "      <td>55</td>\n",
       "      <td>6.80</td>\n",
       "      <td>-58.16</td>\n",
       "      <td>91.40</td>\n",
       "      <td>13.87</td>\n",
       "    </tr>\n",
       "    <tr>\n",
       "      <th>1</th>\n",
       "      <td>Carbonia</td>\n",
       "      <td>40</td>\n",
       "      <td>IT</td>\n",
       "      <td>1539195600</td>\n",
       "      <td>93</td>\n",
       "      <td>39.17</td>\n",
       "      <td>8.53</td>\n",
       "      <td>66.20</td>\n",
       "      <td>6.93</td>\n",
       "    </tr>\n",
       "    <tr>\n",
       "      <th>2</th>\n",
       "      <td>Burhaniye</td>\n",
       "      <td>40</td>\n",
       "      <td>TR</td>\n",
       "      <td>1539195600</td>\n",
       "      <td>63</td>\n",
       "      <td>39.51</td>\n",
       "      <td>26.98</td>\n",
       "      <td>68.00</td>\n",
       "      <td>14.99</td>\n",
       "    </tr>\n",
       "    <tr>\n",
       "      <th>3</th>\n",
       "      <td>Rikitea</td>\n",
       "      <td>44</td>\n",
       "      <td>PF</td>\n",
       "      <td>1539197539</td>\n",
       "      <td>94</td>\n",
       "      <td>-23.12</td>\n",
       "      <td>-134.97</td>\n",
       "      <td>74.93</td>\n",
       "      <td>18.48</td>\n",
       "    </tr>\n",
       "    <tr>\n",
       "      <th>4</th>\n",
       "      <td>Atuona</td>\n",
       "      <td>8</td>\n",
       "      <td>PF</td>\n",
       "      <td>1539197377</td>\n",
       "      <td>100</td>\n",
       "      <td>-9.80</td>\n",
       "      <td>-139.03</td>\n",
       "      <td>80.24</td>\n",
       "      <td>15.12</td>\n",
       "    </tr>\n",
       "  </tbody>\n",
       "</table>\n",
       "</div>"
      ],
      "text/plain": [
       "         City  Cloudiness Country  UNIX Timestamp  Humidity  Latitude  \\\n",
       "0  Georgetown          40      GY      1539194400        55      6.80   \n",
       "1    Carbonia          40      IT      1539195600        93     39.17   \n",
       "2   Burhaniye          40      TR      1539195600        63     39.51   \n",
       "3     Rikitea          44      PF      1539197539        94    -23.12   \n",
       "4      Atuona           8      PF      1539197377       100     -9.80   \n",
       "\n",
       "   Longitude  Max Temperature  Wind Speed  \n",
       "0     -58.16            91.40       13.87  \n",
       "1       8.53            66.20        6.93  \n",
       "2      26.98            68.00       14.99  \n",
       "3    -134.97            74.93       18.48  \n",
       "4    -139.03            80.24       15.12  "
      ]
     },
     "execution_count": 20,
     "metadata": {},
     "output_type": "execute_result"
    }
   ],
   "source": [
    "# # Here we create a dataframe using the dictionary of lists we defined earlier.\n",
    "weather_data = pd.DataFrame(weather_data_dictionary)\n",
    "weather_data.head()"
   ]
  },
  {
   "cell_type": "code",
   "execution_count": 35,
   "metadata": {},
   "outputs": [
    {
     "data": {
      "text/html": [
       "<div>\n",
       "<style scoped>\n",
       "    .dataframe tbody tr th:only-of-type {\n",
       "        vertical-align: middle;\n",
       "    }\n",
       "\n",
       "    .dataframe tbody tr th {\n",
       "        vertical-align: top;\n",
       "    }\n",
       "\n",
       "    .dataframe thead th {\n",
       "        text-align: right;\n",
       "    }\n",
       "</style>\n",
       "<table border=\"1\" class=\"dataframe\">\n",
       "  <thead>\n",
       "    <tr style=\"text-align: right;\">\n",
       "      <th></th>\n",
       "      <th>City</th>\n",
       "      <th>Cloudiness</th>\n",
       "      <th>Country</th>\n",
       "      <th>UNIX Timestamp</th>\n",
       "      <th>Humidity</th>\n",
       "      <th>Latitude</th>\n",
       "      <th>Longitude</th>\n",
       "      <th>Max Temperature</th>\n",
       "      <th>Wind Speed</th>\n",
       "      <th>Date</th>\n",
       "    </tr>\n",
       "  </thead>\n",
       "  <tbody>\n",
       "    <tr>\n",
       "      <th>0</th>\n",
       "      <td>Georgetown</td>\n",
       "      <td>40</td>\n",
       "      <td>GY</td>\n",
       "      <td>1539194400</td>\n",
       "      <td>55</td>\n",
       "      <td>6.80</td>\n",
       "      <td>-58.16</td>\n",
       "      <td>91.40</td>\n",
       "      <td>13.87</td>\n",
       "      <td>2018-10-10 18:00:00</td>\n",
       "    </tr>\n",
       "    <tr>\n",
       "      <th>1</th>\n",
       "      <td>Carbonia</td>\n",
       "      <td>40</td>\n",
       "      <td>IT</td>\n",
       "      <td>1539195600</td>\n",
       "      <td>93</td>\n",
       "      <td>39.17</td>\n",
       "      <td>8.53</td>\n",
       "      <td>66.20</td>\n",
       "      <td>6.93</td>\n",
       "      <td>2018-10-10 18:20:00</td>\n",
       "    </tr>\n",
       "    <tr>\n",
       "      <th>2</th>\n",
       "      <td>Burhaniye</td>\n",
       "      <td>40</td>\n",
       "      <td>TR</td>\n",
       "      <td>1539195600</td>\n",
       "      <td>63</td>\n",
       "      <td>39.51</td>\n",
       "      <td>26.98</td>\n",
       "      <td>68.00</td>\n",
       "      <td>14.99</td>\n",
       "      <td>2018-10-10 18:20:00</td>\n",
       "    </tr>\n",
       "    <tr>\n",
       "      <th>3</th>\n",
       "      <td>Rikitea</td>\n",
       "      <td>44</td>\n",
       "      <td>PF</td>\n",
       "      <td>1539197539</td>\n",
       "      <td>94</td>\n",
       "      <td>-23.12</td>\n",
       "      <td>-134.97</td>\n",
       "      <td>74.93</td>\n",
       "      <td>18.48</td>\n",
       "      <td>2018-10-10 18:52:19</td>\n",
       "    </tr>\n",
       "    <tr>\n",
       "      <th>4</th>\n",
       "      <td>Atuona</td>\n",
       "      <td>8</td>\n",
       "      <td>PF</td>\n",
       "      <td>1539197377</td>\n",
       "      <td>100</td>\n",
       "      <td>-9.80</td>\n",
       "      <td>-139.03</td>\n",
       "      <td>80.24</td>\n",
       "      <td>15.12</td>\n",
       "      <td>2018-10-10 18:49:37</td>\n",
       "    </tr>\n",
       "  </tbody>\n",
       "</table>\n",
       "</div>"
      ],
      "text/plain": [
       "         City  Cloudiness Country  UNIX Timestamp  Humidity  Latitude  \\\n",
       "0  Georgetown          40      GY      1539194400        55      6.80   \n",
       "1    Carbonia          40      IT      1539195600        93     39.17   \n",
       "2   Burhaniye          40      TR      1539195600        63     39.51   \n",
       "3     Rikitea          44      PF      1539197539        94    -23.12   \n",
       "4      Atuona           8      PF      1539197377       100     -9.80   \n",
       "\n",
       "   Longitude  Max Temperature  Wind Speed                Date  \n",
       "0     -58.16            91.40       13.87 2018-10-10 18:00:00  \n",
       "1       8.53            66.20        6.93 2018-10-10 18:20:00  \n",
       "2      26.98            68.00       14.99 2018-10-10 18:20:00  \n",
       "3    -134.97            74.93       18.48 2018-10-10 18:52:19  \n",
       "4    -139.03            80.24       15.12 2018-10-10 18:49:37  "
      ]
     },
     "execution_count": 35,
     "metadata": {},
     "output_type": "execute_result"
    }
   ],
   "source": [
    "weather_data[\"Date\"] = pd.to_datetime(weather_data[\"UNIX Timestamp\"], unit=\"s\")\n",
    "weather_data.head()"
   ]
  },
  {
   "cell_type": "code",
   "execution_count": 36,
   "metadata": {
    "scrolled": true
   },
   "outputs": [
    {
     "data": {
      "text/plain": [
       "'2018-10-10'"
      ]
     },
     "execution_count": 36,
     "metadata": {},
     "output_type": "execute_result"
    }
   ],
   "source": [
    "datetime.datetime.fromtimestamp(1539195495)\n",
    "time.strftime(\"%Y-%m-%d\")"
   ]
  },
  {
   "cell_type": "code",
   "execution_count": 38,
   "metadata": {},
   "outputs": [
    {
     "ename": "SyntaxError",
     "evalue": "can't assign to function call (<ipython-input-38-9a9aebcdc272>, line 2)",
     "output_type": "error",
     "traceback": [
      "\u001b[1;36m  File \u001b[1;32m\"<ipython-input-38-9a9aebcdc272>\"\u001b[1;36m, line \u001b[1;32m2\u001b[0m\n\u001b[1;33m    weather_data[\"Date\"].index(timestap) = datetime.datetime.fromtimestamp(timestap)\u001b[0m\n\u001b[1;37m    ^\u001b[0m\n\u001b[1;31mSyntaxError\u001b[0m\u001b[1;31m:\u001b[0m can't assign to function call\n"
     ]
    }
   ],
   "source": [
    "for timestap in weather_data[\"Date\"]:\n",
    "    weather_data[\"Date\"].index(timestap) = datetime.datetime.fromtimestamp(timestap)"
   ]
  },
  {
   "cell_type": "code",
   "execution_count": 39,
   "metadata": {},
   "outputs": [],
   "source": [
    "# After forming a dataframe using the weather data we extracted from the OpenWeatherMap API, we will make a csv file therefrom.\n",
    "weather_data_csv = \"Output/weather_data.csv\""
   ]
  },
  {
   "cell_type": "markdown",
   "metadata": {},
   "source": [
    "# NOTE TO SELF: CONVERT MAX TEMPERATURE VALUES TO FAHRENHEIT\n",
    "# POSSIBLY OTHER AXES TOO"
   ]
  },
  {
   "cell_type": "code",
   "execution_count": 40,
   "metadata": {},
   "outputs": [
    {
     "data": {
      "image/png": "[encoded data removed]",
      "text/plain": [
       "<Figure size 432x288 with 1 Axes>"
      ]
     },
     "metadata": {},
     "output_type": "display_data"
    }
   ],
   "source": [
    "plt.scatter(weather_data[\"Latitude\"], weather_data[\"Max Temperature\"])\n",
    "plt.title(\"City Latitude vs Max Temperature (F) 10/9/2018\")\n",
    "plt.xlabel(\"Latitude\")\n",
    "plt.ylabel(\"Max Temperature (F)\")\n",
    "plt.grid()"
   ]
  },
  {
   "cell_type": "code",
   "execution_count": 41,
   "metadata": {},
   "outputs": [
    {
     "data": {
      "image/png": "[encoded data removed]",
      "text/plain": [
       "<Figure size 432x288 with 1 Axes>"
      ]
     },
     "metadata": {},
     "output_type": "display_data"
    }
   ],
   "source": [
    "plt.scatter(weather_data[\"Latitude\"], weather_data[\"Humidity\"])\n",
    "plt.title(\"City Latitude vs Humidity (%) 10/9/2018\")\n",
    "plt.xlabel(\"Latitude\")\n",
    "plt.ylabel(\"Humidity (%)\")\n",
    "plt.grid()"
   ]
  },
  {
   "cell_type": "code",
   "execution_count": 42,
   "metadata": {},
   "outputs": [
    {
     "data": {
      "image/png": "[encoded data removed]",
      "text/plain": [
       "<Figure size 432x288 with 1 Axes>"
      ]
     },
     "metadata": {},
     "output_type": "display_data"
    }
   ],
   "source": [
    "plt.scatter(weather_data[\"Latitude\"], weather_data[\"Cloudiness\"])\n",
    "plt.title(\"City Latitude vs Cloudiness (%) 10/9/2018\")\n",
    "plt.xlabel(\"Latitude\")\n",
    "plt.ylabel(\"Cloudiness (%)\")\n",
    "plt.grid()"
   ]
  },
  {
   "cell_type": "code",
   "execution_count": 43,
   "metadata": {},
   "outputs": [
    {
     "data": {
      "image/png": "[encoded data removed]",
      "text/plain": [
       "<Figure size 432x288 with 1 Axes>"
      ]
     },
     "metadata": {},
     "output_type": "display_data"
    }
   ],
   "source": [
    "plt.scatter(weather_data[\"Latitude\"], weather_data[\"Wind Speed\"])\n",
    "plt.title(\"City Latitude vs Wind Speed (mph) 10/9/2018\")\n",
    "plt.xlabel(\"Latitude\")\n",
    "plt.ylabel(\"Wind Speed (mph)\")\n",
    "plt.grid()"
   ]
  },
  {
   "cell_type": "code",
   "execution_count": null,
   "metadata": {},
   "outputs": [],
   "source": []
  },
  {
   "cell_type": "code",
   "execution_count": null,
   "metadata": {},
   "outputs": [],
   "source": []
  }
 ],
 "metadata": {
  "kernelspec": {
   "display_name": "Python 3",
   "language": "python",
   "name": "python3"
  },
  "language_info": {
   "codemirror_mode": {
    "name": "ipython",
    "version": 3
   },
   "file_extension": ".py",
   "mimetype": "text/x-python",
   "name": "python",
   "nbconvert_exporter": "python",
   "pygments_lexer": "ipython3",
   "version": "3.6.5"
  }
 },
 "nbformat": 4,
 "nbformat_minor": 2
}
