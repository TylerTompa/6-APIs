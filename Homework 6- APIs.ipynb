{
 "cells": [
  {
   "cell_type": "code",
   "execution_count": 1,
   "metadata": {},
   "outputs": [],
   "source": [
    "# We must first import our relevant packages to this project.\n",
    "import pandas as pd\n",
    "import numpy as np\n",
    "import matplotlib.pyplot as plt\n",
    "\n",
    "# We will use the requests package to call on APIs.\n",
    "import requests\n",
    "import time\n",
    "# We use the citipy package to generate a list of randomly selected cities.\n",
    "from citipy import citipy\n",
    "\n",
    "# We will use the getpass function to keep our API key hidden.\n",
    "import getpass"
   ]
  },
  {
   "cell_type": "code",
   "execution_count": 2,
   "metadata": {},
   "outputs": [
    {
     "name": "stdout",
     "output_type": "stream",
     "text": [
      "········\n"
     ]
    }
   ],
   "source": [
    "# We will use the getpass function to define the API key we are using to make requests.\n",
    "api_key = getpass.getpass()"
   ]
  },
  {
   "cell_type": "code",
   "execution_count": 3,
   "metadata": {},
   "outputs": [],
   "source": [
    "# Output file (CSV)\n",
    "output_data_file = \"output_data/cities.csv\""
   ]
  },
  {
   "cell_type": "code",
   "execution_count": 4,
   "metadata": {},
   "outputs": [],
   "source": [
    "# We will soon generate a list of randomly selected cities.\n",
    "# Here we define the latitudinal and longitudinal boundaries each city must be within.\n",
    "lat_range = (-90, 90)\n",
    "lng_range = (-180, 180)"
   ]
  },
  {
   "cell_type": "code",
   "execution_count": 11,
   "metadata": {},
   "outputs": [],
   "source": [
    "# The cities_to_check variable will be a list containing randomly selected cities using the citipy package.\n",
    "# Later we will make API requests to OpenWeatherMap and try to extract data relating to each city.\n",
    "# The citipy package may return cities, for which OpenWeatherMap has not data, hence, we are \"checking\" each city.\n",
    "# Later we will define a new list containing only those cities, for which OpenWeatherMap does have data.\n",
    "# The citipy package may return city names, for which OpenWeatherMap\n",
    "cities_to_check = []"
   ]
  },
  {
   "cell_type": "code",
   "execution_count": 12,
   "metadata": {},
   "outputs": [
    {
     "data": {
      "text/plain": [
       "607"
      ]
     },
     "execution_count": 12,
     "metadata": {},
     "output_type": "execute_result"
    }
   ],
   "source": [
    "# Create a set of random lat and lng combinations\n",
    "lats = np.random.uniform(low=-90.000, high=90.000, size=1500)\n",
    "lngs = np.random.uniform(low=-180.000, high=180.000, size=1500)\n",
    "lat_lngs = zip(lats,lngs)\n",
    "\n",
    "# Identify nearest city for each lat/lng combination\n",
    "for lat_lng in lat_lngs:\n",
    "    city = citipy.nearest_city(lat_lng[0], lat_lng[1]).city_name\n",
    "    \n",
    "    # if the cit is uniquem then add it to our cities list\n",
    "    if city not in cities_to_check:\n",
    "        cities_to_check.append(city)\n",
    "        \n",
    "# print the city amound to confirm sufficient count        \n",
    "len(cities_to_check)"
   ]
  },
  {
   "cell_type": "code",
   "execution_count": null,
   "metadata": {},
   "outputs": [],
   "source": [
    "url = \"http://api.openweathermap.org/data/2.5/weather?\"\n",
    "units = \"metric\"\n",
    "\n",
    "query_url = f\"{url}appid={api_key}&units=units&q=\""
   ]
  },
  {
   "cell_type": "code",
   "execution_count": null,
   "metadata": {
    "scrolled": true
   },
   "outputs": [],
   "source": [
    "# We are only allowed to make a limited amount of requests per a certain time restraint.\n",
    "# Here we make a subset of our cities_to_check list containing only the first 10 cities.\n",
    "# We will use this subset-list for testing purposes, and only use our full list once we are confident our code will work.\n",
    "cities_to_check_subset_for_testing = cities_to_check[0:10]\n",
    "cities_to_check_subset_for_testing"
   ]
  },
  {
   "cell_type": "code",
   "execution_count": null,
   "metadata": {
    "scrolled": true
   },
   "outputs": [],
   "source": [
    "# latitudes = []\n",
    "# temperatures = []\n",
    "# found_cities = []\n",
    "\n",
    "# print(\"Beginning Data Retrieval\")\n",
    "\n",
    "# for city in cities_to_check:\n",
    "#     response = requests.get(query_url + city).json()\n",
    "#     city_name = cities_to_check[cities_to_check.index(city)]\n",
    "#     record_number = cities.index(city)\n",
    "    \n",
    "#     try:\n",
    "#         print(f\"Processing Record {record_number} of Set | {city_name}\")\n",
    "#         found_cities.append(city_name)\n",
    "#         latitudes.append(response[\"coord\"][\"lat\"])\n",
    "#         temperatures.append(response[\"main\"][\"temp\"])\n",
    "        \n",
    "#     except:\n",
    "#         print (\"City not found.  Skipping...\")\n",
    "        \n",
    "# print(\"-----------------------------\")\n",
    "# print(\"Data Retrieval Complete\")\n",
    "# print(\"-----------------------------\")\n",
    "\n",
    "\n",
    "\n",
    "# This block of code serves the same purpose as the block of code above.\n",
    "# The only difference is that we are using a subset of the entire list of cities for testing purposes.\n",
    "latitudes = []\n",
    "temperatures = []\n",
    "found_cities = []\n",
    "\n",
    "print(\"Beginning Data Retrieval\")\n",
    "\n",
    "for city in cities_to_check_subset_for_testing:\n",
    "    response = requests.get(query_url + city).json()\n",
    "    city_name = cities_to_check_subset_for_testing[cities_to_check_subset_for_testing.index(city)]\n",
    "    record_number = cities_to_check_subset_for_testing.index(city)\n",
    "    \n",
    "    try:\n",
    "        print(f\"Processing Record {record_number} of Set | {city_name}\")\n",
    "        found_cities.append(response[\"name\"])\n",
    "        latitudes.append(response[\"coord\"][\"lat\"])\n",
    "        temperatures.append(response[\"main\"][\"temp\"])\n",
    "        \n",
    "    except:\n",
    "        print (\"City not found.  Skipping...\")\n",
    "        \n",
    "print(\"-----------------------------\")\n",
    "print(\"Data Retrieval Complete\")\n",
    "print(\"-----------------------------\")"
   ]
  },
  {
   "cell_type": "code",
   "execution_count": null,
   "metadata": {},
   "outputs": [],
   "source": [
    "weather_data_dictionary = {\n",
    "    \"City\": found_cities,\n",
    "    \"Latitude\": latitudes,\n",
    "    \"Temperature\": temperatures\n",
    "}"
   ]
  },
  {
   "cell_type": "code",
   "execution_count": null,
   "metadata": {},
   "outputs": [],
   "source": [
    "weather_data = pd.DataFrame(weather_data_dictionary)\n",
    "weather_data.head()"
   ]
  },
  {
   "cell_type": "code",
   "execution_count": null,
   "metadata": {},
   "outputs": [],
   "source": []
  }
 ],
 "metadata": {
  "kernelspec": {
   "display_name": "Python 3",
   "language": "python",
   "name": "python3"
  },
  "language_info": {
   "codemirror_mode": {
    "name": "ipython",
    "version": 3
   },
   "file_extension": ".py",
   "mimetype": "text/x-python",
   "name": "python",
   "nbconvert_exporter": "python",
   "pygments_lexer": "ipython3",
   "version": "3.6.5"
  }
 },
 "nbformat": 4,
 "nbformat_minor": 2
}
